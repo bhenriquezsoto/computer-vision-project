{
 "cells": [
  {
   "cell_type": "markdown",
   "metadata": {},
   "source": [
    "# Data Preprocessing and Augmentation"
   ]
  },
  {
   "cell_type": "code",
   "execution_count": 5,
   "metadata": {},
   "outputs": [],
   "source": [
    "import os\n",
    "import numpy as np\n",
    "import torch\n",
    "from skimage.io import imread\n",
    "from torch.utils.data import Dataset, DataLoader\n",
    "import albumentations as A\n",
    "from albumentations.pytorch import ToTensorV2"
   ]
  },
  {
   "cell_type": "code",
   "execution_count": 6,
   "metadata": {},
   "outputs": [],
   "source": [
    "test_path = \"../Dataset/Test/color\"\n",
    "test_label_path = \"../Dataset/Test/label\"\n",
    "train_path = \"../Dataset/TrainVal/color\"\n",
    "train_label_path = \"../Dataset/TrainVal/label\""
   ]
  },
  {
   "cell_type": "code",
   "execution_count": 7,
   "metadata": {},
   "outputs": [
    {
     "name": "stderr",
     "output_type": "stream",
     "text": [
      "/var/folders/4z/v9y67y7x27152tcm86prnvwc0000gn/T/ipykernel_73375/2236652172.py:30: UserWarning: Argument(s) 'alpha_affine' are not valid for transform ElasticTransform\n",
      "  A.ElasticTransform(alpha=1, sigma=50, alpha_affine=50, p=0.3),  # Elastic distortion\n",
      "/var/folders/4z/v9y67y7x27152tcm86prnvwc0000gn/T/ipykernel_73375/2236652172.py:34: UserWarning: Argument(s) 'var_limit' are not valid for transform GaussNoise\n",
      "  A.GaussNoise(var_limit=(10, 50), p=0.2),  # Random noise\n",
      "/var/folders/4z/v9y67y7x27152tcm86prnvwc0000gn/T/ipykernel_73375/2236652172.py:35: UserWarning: Argument(s) 'max_holes, max_height, max_width' are not valid for transform CoarseDropout\n",
      "  A.CoarseDropout(max_holes=2, max_height=50, max_width=50, p=0.3),  # Cutout occlusion\n"
     ]
    }
   ],
   "source": [
    "\n",
    "class SegmentationDataset(Dataset):\n",
    "    def __init__(self, image_dir, mask_dir, transform=None):\n",
    "        self.image_dir = image_dir\n",
    "        self.mask_dir = mask_dir\n",
    "        self.transform = transform\n",
    "        self.image_filenames = os.listdir(image_dir)\n",
    "    \n",
    "    def __len__(self):\n",
    "        return len(self.image_filenames)\n",
    "    \n",
    "    def __getitem__(self, idx):\n",
    "        image_path = os.path.join(self.image_dir, self.image_filenames[idx])\n",
    "        mask_path = os.path.join(self.mask_dir, self.image_filenames[idx])\n",
    "\n",
    "        image = imread(image_path)\n",
    "        mask = imread(mask_path)\n",
    "\n",
    "        if self.transform:\n",
    "            augmented = self.transform(image=image, mask=mask)\n",
    "            image, mask = augmented[\"image\"], augmented[\"mask\"]\n",
    "\n",
    "        return image, mask\n",
    "\n",
    "# Albumentations-based transformation pipeline\n",
    "transform = A.Compose([\n",
    "    A.Resize(300, 300),  # Resize keeping aspect ratio\n",
    "    A.RandomCrop(256, 256),  # Crop to fixed size\n",
    "    A.HorizontalFlip(p=0.5),  # Flip images & masks with 50% probability\n",
    "    A.Rotate(limit=20, p=0.5),  # Random rotation (-20° to 20°)\n",
    "    A.ElasticTransform(alpha=1, sigma=50, alpha_affine=50, p=0.3),  # Elastic distortion\n",
    "    A.GridDistortion(p=0.3),  # Slight grid warping\n",
    "    A.ColorJitter(brightness=0.2, contrast=0.2, saturation=0.2, hue=0.1, p=0.5),  # Color jitter\n",
    "    A.GaussianBlur(blur_limit=(3, 7), p=0.2),  # Random blur\n",
    "    A.GaussNoise(var_limit=(10, 50), p=0.2),  # Random noise\n",
    "    A.CoarseDropout(max_holes=2, max_height=50, max_width=50, p=0.3),  # Cutout occlusion\n",
    "    A.Normalize(mean=(0.485, 0.456, 0.406), std=(0.229, 0.224, 0.225)),  # Standard normalization\n",
    "    ToTensorV2()  # Convert to PyTorch tensor\n",
    "])"
   ]
  },
  {
   "cell_type": "code",
   "execution_count": 8,
   "metadata": {},
   "outputs": [],
   "source": [
    "# Example usage\n",
    "dataset = SegmentationDataset(image_dir=train_path, mask_dir=train_label_path, transform=transform)\n",
    "dataloader = DataLoader(dataset, batch_size=8, shuffle=True)"
   ]
  },
  {
   "cell_type": "code",
   "execution_count": null,
   "metadata": {},
   "outputs": [],
   "source": []
  },
  {
   "cell_type": "code",
   "execution_count": null,
   "metadata": {},
   "outputs": [],
   "source": []
  }
 ],
 "metadata": {
  "kernelspec": {
   "display_name": "base",
   "language": "python",
   "name": "python3"
  },
  "language_info": {
   "codemirror_mode": {
    "name": "ipython",
    "version": 3
   },
   "file_extension": ".py",
   "mimetype": "text/x-python",
   "name": "python",
   "nbconvert_exporter": "python",
   "pygments_lexer": "ipython3",
   "version": "3.11.9"
  }
 },
 "nbformat": 4,
 "nbformat_minor": 2
}
