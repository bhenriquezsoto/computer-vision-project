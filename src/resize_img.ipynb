{
 "cells": [
  {
   "cell_type": "markdown",
   "metadata": {},
   "source": [
    "# 1. Dataset preprocessing and augmentation "
   ]
  },
  {
   "cell_type": "markdown",
   "metadata": {},
   "source": [
    "## 1.1 Dataset preprocessing (convert RGBA to RGB and resize)"
   ]
  },
  {
   "cell_type": "markdown",
   "metadata": {},
   "source": [
    "### 1.1.1 Convert RGBA to RGB"
   ]
  },
  {
   "cell_type": "markdown",
   "metadata": {},
   "source": [
    "We noticed that there are some images with RGBA mode, we need to convert them to RGB in order to be able to process them"
   ]
  },
  {
   "cell_type": "code",
   "execution_count": 6,
   "metadata": {},
   "outputs": [
    {
     "name": "stdout",
     "output_type": "stream",
     "text": [
      "RGBA image found: Egyptian_Mau_186.jpg\n",
      "RGBA image found: Egyptian_Mau_14.jpg\n",
      "\n",
      "Summary:\n",
      "Total images processed: 3680\n",
      "Number of RGBA images: 2\n",
      "Percentage of RGBA images: 0.05%\n"
     ]
    }
   ],
   "source": [
    "import os\n",
    "from PIL import Image\n",
    "\n",
    "def check_image_mode(input_folder):\n",
    "    \"\"\"\n",
    "    Check all images in a folder and identify those with RGBA mode\n",
    "    \n",
    "    Args:\n",
    "        input_folder: Path to the folder containing images\n",
    "    \"\"\"\n",
    "    rgba_images = []\n",
    "    total_images = 0\n",
    "    \n",
    "    for filename in os.listdir(input_folder):\n",
    "        if filename.lower().endswith(('.png', '.jpg', '.jpeg', '.bmp', '.tiff')):\n",
    "            total_images += 1\n",
    "            input_path = os.path.join(input_folder, filename)\n",
    "            try:\n",
    "                with Image.open(input_path) as img:\n",
    "                    if img.mode == 'RGBA':\n",
    "                        rgba_images.append(filename)\n",
    "                        print(f\"RGBA image found: {filename}\")\n",
    "            except Exception as e:\n",
    "                print(f\"Error processing {filename}: {str(e)}\")\n",
    "    \n",
    "    # Print summary\n",
    "    print(\"\\nSummary:\")\n",
    "    print(f\"Total images processed: {total_images}\")\n",
    "    print(f\"Number of RGBA images: {len(rgba_images)}\")\n",
    "    print(f\"Percentage of RGBA images: {(len(rgba_images)/total_images)*100:.2f}%\")\n",
    "    \n",
    "    return rgba_images\n",
    "\n",
    "# Use the same input folder from your resize script\n",
    "input_folder = \"../Dataset/TrainVal/color\"\n",
    "rgba_files = check_image_mode(input_folder)"
   ]
  },
  {
   "cell_type": "markdown",
   "metadata": {},
   "source": [
    "### 1.1.2 Resize images and add padding to images (in order to make them squared)"
   ]
  },
  {
   "cell_type": "code",
   "execution_count": 14,
   "metadata": {},
   "outputs": [],
   "source": [
    "import os\n",
    "from PIL import Image\n",
    "\n",
    "def resize_and_pad_image(image_path, target_size, output_path, colouring_method):\n",
    "    \"\"\"\n",
    "    Resize an image while maintaining aspect ratio and add padding to make it square\n",
    "    \n",
    "    Args:\n",
    "        image_path: Path to the input image\n",
    "        target_size: Tuple of (width, height) for the desired size\n",
    "        output_path: Path to save the resized image\n",
    "    \"\"\"\n",
    "    with Image.open(image_path) as img:\n",
    "        # Convert RGBA to RGB if necessary\n",
    "        if img.mode == 'RGBA':\n",
    "            img = img.convert('RGB')\n",
    "            \n",
    "        # Calculate aspect ratio\n",
    "        width_ratio = target_size[0] / img.size[0]\n",
    "        height_ratio = target_size[1] / img.size[1]\n",
    "        \n",
    "        # Use the smaller ratio to ensure the image fits within target dimensions\n",
    "        resize_ratio = min(width_ratio, height_ratio)\n",
    "        \n",
    "        # Calculate new dimensions\n",
    "        new_size = (\n",
    "            int(img.size[0] * resize_ratio),\n",
    "            int(img.size[1] * resize_ratio)\n",
    "        )\n",
    "        \n",
    "        # Resize the image\n",
    "        resized_img = img.resize(new_size, colouring_method)\n",
    "        \n",
    "        # Create new black image with target size\n",
    "        padded_img = Image.new('RGB', target_size, (0, 0, 0))\n",
    "        \n",
    "        # Calculate position to paste resized image (center it)\n",
    "        paste_position = (\n",
    "            (target_size[0] - new_size[0]) // 2,\n",
    "            (target_size[1] - new_size[1]) // 2\n",
    "        )\n",
    "        \n",
    "        # Paste resized image onto black background\n",
    "        padded_img.paste(resized_img, paste_position)\n",
    "        \n",
    "        # Save the final image\n",
    "        padded_img.save(output_path, quality=95)\n",
    "\n",
    "# Example usage\n",
    "target_size = (300, 300)  # This will be the final size of the square image\n",
    "input_folder = \"../Dataset/TrainVal/color\"\n",
    "output_folder = \"../Dataset_resized\"\n",
    "colouring_method = Image.Resampling.LANCZOS\n",
    "# Create output folder if it doesn't exist\n",
    "os.makedirs(output_folder, exist_ok=True)\n",
    "\n",
    "# Process all images in the input folder\n",
    "for filename in os.listdir(input_folder):\n",
    "    if filename.lower().endswith(('.png', '.jpg', '.jpeg', '.bmp', '.tiff')):\n",
    "        input_path = os.path.join(input_folder, filename)\n",
    "        output_path = os.path.join(output_folder, filename)\n",
    "        resize_and_pad_image(input_path, target_size, output_path, colouring_method)"
   ]
  },
  {
   "cell_type": "markdown",
   "metadata": {},
   "source": [
    "What this code does is that it resizes all the images in the input folder to (300)x(z), where z is a number that is less than 300, while maintaining the aspect ratio. It also adds padding to the shorter side to make the image squared. The output images are saved in the output folder. Now, we have the masks left."
   ]
  },
  {
   "cell_type": "code",
   "execution_count": 15,
   "metadata": {},
   "outputs": [],
   "source": [
    "input_folder = \"../Dataset/TrainVal/label\"\n",
    "output_folder = \"../Dataset_resized_masks\"\n",
    "os.makedirs(output_folder, exist_ok=True)\n",
    "\n",
    "colouring_method = Image.Resampling.NEAREST\n",
    "\n",
    "for filename in os.listdir(input_folder):\n",
    "    if filename.lower().endswith(('.png', '.jpg', '.jpeg', '.bmp', '.tiff')):\n",
    "        input_path = os.path.join(input_folder, filename)\n",
    "        output_path = os.path.join(output_folder, filename)\n",
    "        resize_and_pad_image(input_path, target_size, output_path, colouring_method)"
   ]
  },
  {
   "cell_type": "code",
   "execution_count": null,
   "metadata": {},
   "outputs": [],
   "source": []
  }
 ],
 "metadata": {
  "kernelspec": {
   "display_name": "Python 3",
   "language": "python",
   "name": "python3"
  },
  "language_info": {
   "codemirror_mode": {
    "name": "ipython",
    "version": 3
   },
   "file_extension": ".py",
   "mimetype": "text/x-python",
   "name": "python",
   "nbconvert_exporter": "python",
   "pygments_lexer": "ipython3",
   "version": "3.11.0"
  }
 },
 "nbformat": 4,
 "nbformat_minor": 2
}
