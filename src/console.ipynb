{
 "cells": [
  {
   "cell_type": "code",
   "execution_count": null,
   "metadata": {
    "vscode": {
     "languageId": "plaintext"
    }
   },
   "outputs": [],
   "source": [
    "!pip install wandb -qU\n",
    "\n",
    "# Log in to your W&B account\n",
    "import wandb\n",
    "import random\n",
    "import math\n",
    "\n",
    "wandb.login()"
   ]
  }
 ],
 "metadata": {
  "language_info": {
   "name": "python"
  }
 },
 "nbformat": 4,
 "nbformat_minor": 2
}
