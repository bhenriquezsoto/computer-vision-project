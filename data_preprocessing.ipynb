{
 "cells": [
  {
   "cell_type": "markdown",
   "metadata": {},
   "source": [
    "# Data Preprocessing (Julia)"
   ]
  },
  {
   "cell_type": "markdown",
   "metadata": {},
   "source": [
    "## Access Dataset\n",
    "Gather information about the dataset.\n",
    "- Number of images in test set and train set\n",
    "- Number of different formats\n",
    "- Number of cats and dogs in train and test set\n",
    "- Different type of image sizes in each set and their count\n"
   ]
  },
  {
   "cell_type": "code",
   "execution_count": 1,
   "metadata": {},
   "outputs": [],
   "source": [
    "import numpy as np\n",
    "import matplotlib.pyplot as plt\n",
    "import matplotlib.patches as patches\n",
    "import matplotlib.colors as mcolors\n",
    "import matplotlib.cm as cm\n",
    "import matplotlib.colorbar as colorbar\n",
    "import matplotlib.ticker as ticker\n",
    "import matplotlib.lines as mlines\n",
    "import matplotlib as mpl\n",
    "import matplotlib.gridspec as gridspec"
   ]
  },
  {
   "cell_type": "code",
   "execution_count": 2,
   "metadata": {},
   "outputs": [],
   "source": [
    "import os"
   ]
  },
  {
   "cell_type": "code",
   "execution_count": 3,
   "metadata": {},
   "outputs": [],
   "source": [
    "test_path = \"Dataset/Test/color\"\n",
    "test_label_path = \"Dataset/Test/label\"\n",
    "train_path = \"Dataset/TrainVal/color\"\n",
    "train_label_path = \"Dataset/TrainVal/label\""
   ]
  },
  {
   "cell_type": "markdown",
   "metadata": {},
   "source": [
    "## Number of images in test set and train set"
   ]
  },
  {
   "cell_type": "code",
   "execution_count": 9,
   "metadata": {},
   "outputs": [
    {
     "name": "stdout",
     "output_type": "stream",
     "text": [
      "Number of images in test:  3710\n",
      "Number of images in train:  3680\n",
      "Format and count in test set:  {'jpg': 3710}\n",
      "Breeds and count in test set:  {'Egyptian_Mau': 107, 'pug': 100, 'Siamese': 101, 'leonberger': 100, 'Abyssinian': 100, 'miniature_pinscher': 100, 'wheaten_terrier': 100, 'shiba_inu': 100, 'saint_bernard': 100, 'pomeranian': 100, 'Sphynx': 100, 'British_Shorthair': 100, 'Birman': 100, 'Bombay': 104, 'samoyed': 100, 'Russian_Blue': 100, 'Persian': 100, 'Maine_Coon': 100, 'Bengal': 100, 'english_cocker_spaniel': 104, 'american_pit_bull_terrier': 100, 'keeshond': 100, 'great_pyrenees': 100, 'boxer': 100, 'chihuahua': 100, 'german_shorthaired': 100, 'yorkshire_terrier': 100, 'staffordshire_bull_terrier': 91, 'beagle': 100, 'japanese_chin': 100, 'american_bulldog': 100, 'english_setter': 100, 'Ragdoll': 100, 'basset_hound': 100, 'newfoundland': 104, 'scottish_terrier': 99, 'havanese': 100}\n",
      "Format and count in train set:  {}\n",
      "Breeds and count in train set:  {'jpg': 3680, 'basset_hound': 100, 'Siamese': 99, 'shiba_inu': 100, 'Birman': 100, 'saint_bernard': 100, 'Egyptian_Mau': 93, 'scottish_terrier': 100, 'pomeranian': 100, 'german_shorthaired': 100, 'english_setter': 100, 'newfoundland': 96, 'British_Shorthair': 100, 'boxer': 100, 'great_pyrenees': 100, 'leonberger': 100, 'japanese_chin': 100, 'Ragdoll': 100, 'english_cocker_spaniel': 96, 'havanese': 100, 'Maine_Coon': 100, 'american_pit_bull_terrier': 100, 'american_bulldog': 100, 'keeshond': 100, 'miniature_pinscher': 100, 'samoyed': 100, 'Abyssinian': 100, 'Sphynx': 100, 'beagle': 100, 'Bombay': 96, 'Bengal': 100, 'staffordshire_bull_terrier': 100, 'Persian': 100, 'pug': 100, 'Russian_Blue': 100, 'chihuahua': 100, 'yorkshire_terrier': 100, 'wheaten_terrier': 100}\n"
     ]
    }
   ],
   "source": [
    "number_of_images_in_test = len(os.listdir(test_path))\n",
    "number_of_images_in_train = len(os.listdir(train_path))\n",
    "\n",
    "print(\"Number of images in test: \", number_of_images_in_test)\n",
    "print(\"Number of images in train: \", number_of_images_in_train)\n",
    "\n",
    "format_and_count_test = {}\n",
    "breeds_and_count_test = {}\n",
    "format_and_count_train = {}\n",
    "breeds_and_count_train = {}\n",
    "cat_dog_count = {\"cat\": 0, \"dog\": 0}\n",
    "\n",
    "for image_file_name_test in os.listdir(test_path):\n",
    "    format = image_file_name_test.split(\".\")[-1]\n",
    "    if format in format_and_count_test:\n",
    "        format_and_count_test[format] += 1\n",
    "    else:\n",
    "        format_and_count_test[format] = 1\n",
    "    \n",
    "    breed = image_file_name_test.split(\"_\")[:-1]\n",
    "    breed = \"_\".join(breed)\n",
    "    if breed in breeds_and_count_test:\n",
    "        breeds_and_count_test[breed] += 1\n",
    "    else:\n",
    "        breeds_and_count_test[breed] = 1\n",
    "\n",
    "for image_file_name_train in os.listdir(train_path):\n",
    "    format = image_file_name_train.split(\".\")[-1]\n",
    "    if format in format_and_count_train:\n",
    "        breeds_and_count_train[format] += 1\n",
    "    else:\n",
    "        breeds_and_count_train[format] = 1\n",
    "    \n",
    "    breed = image_file_name_train.split(\"_\")[:-1]\n",
    "    breed = \"_\".join(breed)\n",
    "    if breed in breeds_and_count_train:\n",
    "        breeds_and_count_train[breed] += 1\n",
    "    else:\n",
    "        breeds_and_count_train[breed] = 1\n",
    "\n",
    "\n",
    "print(\"Format and count in test set: \", format_and_count_test)\n",
    "\n",
    "print(\"Breeds and count in test set: \", breeds_and_count_test)\n",
    "\n",
    "print(\"Format and count in train set: \", format_and_count_train)\n",
    "\n",
    "print(\"Breeds and count in train set: \", breeds_and_count_train)\n"
   ]
  },
  {
   "cell_type": "code",
   "execution_count": null,
   "metadata": {},
   "outputs": [],
   "source": []
  }
 ],
 "metadata": {
  "kernelspec": {
   "display_name": "base",
   "language": "python",
   "name": "python3"
  },
  "language_info": {
   "codemirror_mode": {
    "name": "ipython",
    "version": 3
   },
   "file_extension": ".py",
   "mimetype": "text/x-python",
   "name": "python",
   "nbconvert_exporter": "python",
   "pygments_lexer": "ipython3",
   "version": "3.11.9"
  }
 },
 "nbformat": 4,
 "nbformat_minor": 2
}
